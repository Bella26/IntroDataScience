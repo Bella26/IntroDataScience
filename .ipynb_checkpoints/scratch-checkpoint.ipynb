{
 "cells": [
  {
   "cell_type": "code",
   "execution_count": 2,
   "metadata": {
    "collapsed": true
   },
   "outputs": [],
   "source": [
    "import scipy\n",
    "import numpy as np\n",
    "import pandas as pd\n",
    "import sklearn as sk"
   ]
  },
  {
   "cell_type": "code",
   "execution_count": 14,
   "metadata": {},
   "outputs": [
    {
     "data": {
      "text/plain": [
       "array(['little', 'very_little', 'very_high', 'high', 'avg'], dtype=object)"
      ]
     },
     "execution_count": 14,
     "metadata": {},
     "output_type": "execute_result"
    }
   ],
   "source": [
    "rawData=pd.read_csv('./data/train.csv')\n",
    "rawData\n",
    "rawData.replace(inplace=True,to_replace={\n",
    "    'COLLEGE':{\n",
    "        'zero':0,\n",
    "        'one':1\n",
    "    },\n",
    "    'REPORTED_SATISFACTION':{\n",
    "        'very_unsat':0,\n",
    "        'unsat':25,\n",
    "        'avg':50,\n",
    "        'sat':75,\n",
    "        'very_sat':100\n",
    "    },\n",
    "    'REPORTED_USAGE_LEVEL':{\n",
    "        'very_little':0,\n",
    "        'little':1,\n",
    "        'avg':2,\n",
    "        'high':3,\n",
    "        'very_high':4\n",
    "    }\n",
    "})\n",
    "rawData.REPORTED_USAGE_LEVEL.unique()"
   ]
  },
  {
   "cell_type": "code",
   "execution_count": null,
   "metadata": {
    "collapsed": true
   },
   "outputs": [],
   "source": []
  }
 ],
 "metadata": {
  "kernelspec": {
   "display_name": "Python 3",
   "language": "python",
   "name": "python3"
  },
  "language_info": {
   "codemirror_mode": {
    "name": "ipython",
    "version": 3
   },
   "file_extension": ".py",
   "mimetype": "text/x-python",
   "name": "python",
   "nbconvert_exporter": "python",
   "pygments_lexer": "ipython3",
   "version": "3.6.3"
  }
 },
 "nbformat": 4,
 "nbformat_minor": 2
}
